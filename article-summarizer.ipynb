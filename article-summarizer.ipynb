{
 "cells": [
  {
   "cell_type": "markdown",
   "metadata": {},
   "source": [
    "# Web Mining and Applied NLP (44-620)\n",
    "\n",
    "## Final Project: Article Summarizer\n",
    "\n",
    "### Student Name: Anjana Dhakal, 11/20/2024\n",
    "GitHub repo link: https://github.com/anjana-codes/webmin_07_project\n",
    "\n",
    "Perform the tasks described in the Markdown cells below.  When you have completed the assignment make sure your code cells have all been run (and have output beneath them) and ensure you have committed and pushed ALL of your changes to your assignment repository.\n",
    "\n",
    "You should bring in code from previous assignments to help you answer the questions below.\n",
    "\n",
    "Every question that requires you to write code will have a code cell underneath it; you may either write your entire solution in that cell or write it in a python file (`.py`), then import and run the appropriate code to answer the question."
   ]
  },
  {
   "cell_type": "markdown",
   "metadata": {},
   "source": [
    "### Question 1. \n",
    "Find on the internet an article or blog post about a topic that interests you and you are able to get the text for using the technologies we have applied in the course.  Get the html for the article and store it in a file (which you must submit with your project)"
   ]
  },
  {
   "cell_type": "code",
   "execution_count": 108,
   "metadata": {},
   "outputs": [
    {
     "name": "stdout",
     "output_type": "stream",
     "text": [
      "HTML content saved to 'article.html'.\n"
     ]
    }
   ],
   "source": [
    "import requests\n",
    "\n",
    "# URL of the article\n",
    "url = 'https://gardenbetty.com/the-no-dig-vegetable-garden/'\n",
    "\n",
    "# Send a GET request to fetch the article\n",
    "response = requests.get(url)\n",
    "\n",
    "# Check if the request was successful\n",
    "if response.status_code == 200:\n",
    "    # Save the HTML content to a file\n",
    "    with open('article.html', 'w', encoding='utf-8') as html_file:\n",
    "        html_file.write(response.text)  # Use response.text to get the HTML content\n",
    "\n",
    "    print('HTML content saved to \\'article.html\\'.')\n",
    "else:\n",
    "    print(f'Failed to retrieve the article. Status code: {response.status_code}')\n",
    "\n"
   ]
  },
  {
   "cell_type": "markdown",
   "metadata": {},
   "source": [
    "### Question 2. \n",
    "Read in your article's html source from the file you created in question 1 and do sentiment analysis on the article/post's text (use `.get_text()`).  Print the polarity score with an appropriate label.  Additionally print the number of sentences in the original article (with an appropriate label)"
   ]
  },
  {
   "cell_type": "code",
   "execution_count": 109,
   "metadata": {},
   "outputs": [
    {
     "name": "stdout",
     "output_type": "stream",
     "text": [
      "Polarity score of the article: 0.13\n",
      "Number of sentences in the article: 194\n"
     ]
    }
   ],
   "source": [
    "from bs4 import BeautifulSoup\n",
    "from textblob import TextBlob\n",
    "\n",
    "# Open the saved HTML file and read its content\n",
    "with open('article.html', 'r', encoding='utf-8') as file:\n",
    "    html_content = file.read()\n",
    "\n",
    "# Parse the HTML content using BeautifulSoup\n",
    "soup = BeautifulSoup(html_content, 'html.parser')\n",
    "\n",
    "# Extract the main article text (this depends on the HTML structure)\n",
    "article_text = soup.get_text()\n",
    "\n",
    "\n",
    "# Perform sentiment analysis using TextBlob\n",
    "blob = TextBlob(article_text)\n",
    "polarity = blob.sentiment.polarity\n",
    "\n",
    "# Count the number of sentences in the article\n",
    "sentence_count = len(article_text.split('.'))  # Simple way to count sentences\n",
    "\n",
    "# Print the results\n",
    "print(f\"Polarity score of the article: {polarity:.2f}\")\n",
    "print(f\"Number of sentences in the article: {sentence_count}\")\n"
   ]
  },
  {
   "cell_type": "markdown",
   "metadata": {},
   "source": [
    "### Question 3. \n",
    "Load the article text into a trained `spaCy` pipeline, and determine the 5 most frequent tokens (converted to lower case).  Print the common tokens with an appropriate label.  Additionally, print the tokens their frequencies (with appropriate labels)"
   ]
  },
  {
   "cell_type": "code",
   "execution_count": 110,
   "metadata": {},
   "outputs": [
    {
     "name": "stdout",
     "output_type": "stream",
     "text": [
      "Most common tokens:\n",
      "Token: 'dig', Frequency: 82\n",
      "Token: 'soil', Frequency: 62\n",
      "Token: 'garden', Frequency: 60\n",
      "Token: 'bed', Frequency: 38\n",
      "Token: 'gardening', Frequency: 23\n"
     ]
    }
   ],
   "source": [
    "import spacy\n",
    "from collections import Counter\n",
    "from bs4 import BeautifulSoup\n",
    "\n",
    "# Load the spaCy language model\n",
    "nlp = spacy.load('en_core_web_sm')\n",
    "\n",
    "# Open the saved HTML file and read its content\n",
    "with open('article.html', 'r', encoding='utf-8') as file:\n",
    "    html_content = file.read()\n",
    "\n",
    "# Parse the HTML content using BeautifulSoup\n",
    "soup = BeautifulSoup(html_content, 'html.parser')\n",
    "\n",
    "# Extract the main article text\n",
    "article_text = soup.get_text()\n",
    "\n",
    "# Process the text with spaCy\n",
    "doc = nlp(article_text)\n",
    "\n",
    "# Create a list of tokens (lowercased) that are not punctuation, stop words, or empty strings\n",
    "tokens = [token.text.lower() for token in doc if not token.is_punct and not token.is_stop and token.text.strip()]\n",
    "\n",
    "# Use Counter to find the 5 most common tokens\n",
    "token_frequencies = Counter(tokens)\n",
    "most_common_tokens = token_frequencies.most_common(5)\n",
    "\n",
    "# Print the results\n",
    "print(\"Most common tokens:\")\n",
    "for token, freq in most_common_tokens:\n",
    "    print(f\"Token: '{token}', Frequency: {freq}\")\n"
   ]
  },
  {
   "cell_type": "markdown",
   "metadata": {},
   "source": [
    "### Question 4. \n",
    "Load the article text into a trained `spaCy` pipeline, and determine the 5 most frequent lemmas (converted to lower case).  Print the common lemmas with an appropriate label.  Additionally, print the lemmas with their frequencies (with appropriate labels)."
   ]
  },
  {
   "cell_type": "code",
   "execution_count": 111,
   "metadata": {},
   "outputs": [
    {
     "name": "stdout",
     "output_type": "stream",
     "text": [
      "Most common lemmas:\n",
      "Lemma: 'dig', Frequency: 87\n",
      "Lemma: 'garden', Frequency: 80\n",
      "Lemma: 'soil', Frequency: 62\n",
      "Lemma: 'bed', Frequency: 45\n",
      "Lemma: 'plant', Frequency: 44\n"
     ]
    }
   ],
   "source": [
    "import spacy\n",
    "from collections import Counter\n",
    "from bs4 import BeautifulSoup\n",
    "\n",
    "# Load the spaCy language model\n",
    "nlp = spacy.load('en_core_web_sm')\n",
    "\n",
    "# Open the saved HTML file and read its content\n",
    "with open('article.html', 'r', encoding='utf-8') as file:\n",
    "    html_content = file.read()\n",
    "\n",
    "# Parse the HTML content using BeautifulSoup\n",
    "soup = BeautifulSoup(html_content, 'html.parser')\n",
    "\n",
    "# Extract the main article text\n",
    "article_text = soup.get_text()\n",
    "\n",
    "# Process the text with spaCy\n",
    "doc = nlp(article_text)\n",
    "\n",
    "# Create a list of lemmas (lowercased) that are not punctuation, stop words, or empty strings\n",
    "lemmas = [token.lemma_.lower() for token in doc if not token.is_punct and not token.is_stop and token.text.strip()]\n",
    "\n",
    "# Use Counter to find the 5 most common lemmas\n",
    "lemma_frequencies = Counter(lemmas)\n",
    "most_common_lemmas = lemma_frequencies.most_common(5)\n",
    "\n",
    "# Print the results\n",
    "print(\"Most common lemmas:\")\n",
    "for lemma, freq in most_common_lemmas:\n",
    "      print(f\"Lemma: '{lemma}', Frequency: {freq}\")\n"
   ]
  },
  {
   "cell_type": "markdown",
   "metadata": {},
   "source": [
    "### Question 5. \n",
    "Make a list containing the scores (using tokens) of every sentence in the article, and plot a histogram with appropriate titles and axis labels of the scores. From your histogram, what seems to be the most common range of scores (put the answer in a comment after your code)?"
   ]
  },
  {
   "cell_type": "code",
   "execution_count": 112,
   "metadata": {},
   "outputs": [
    {
     "data": {
      "image/png": "[encoded data removed]",
      "text/plain": [
       "<Figure size 640x480 with 1 Axes>"
      ]
     },
     "metadata": {},
     "output_type": "display_data"
    }
   ],
   "source": [
    "import spacy\n",
    "from textblob import TextBlob\n",
    "import matplotlib.pyplot as plt\n",
    "from bs4 import BeautifulSoup\n",
    "\n",
    "# Load the spaCy language model\n",
    "nlp = spacy.load('en_core_web_sm')\n",
    "\n",
    "# Open the saved HTML file and read its content\n",
    "with open('article.html', 'r', encoding='utf-8') as file:\n",
    "    html_content = file.read()\n",
    "\n",
    "# Parse the HTML content using BeautifulSoup\n",
    "soup = BeautifulSoup(html_content, 'html.parser')\n",
    "\n",
    "# Extract the main article text\n",
    "article_text = soup.get_text()\n",
    "\n",
    "# Process the text with spaCy\n",
    "doc = nlp(article_text)\n",
    "\n",
    "# Split the article into sentences\n",
    "sentences = list(doc.sents)\n",
    "\n",
    "# Calculate sentiment scores for each sentence using TextBlob\n",
    "sentence_scores = [TextBlob(sentence.text).sentiment.polarity for sentence in sentences]\n",
    "\n",
    "# Plot the histogram of sentence scores\n",
    "plt.hist(sentence_scores, bins=20, edgecolor='black')\n",
    "plt.title(' Sentiment Scores of sentences Based on Tokens')\n",
    "plt.xlabel('Sentiment Score')\n",
    "plt.ylabel('Frequency')\n",
    "plt.grid(True)\n",
    "plt.show()\n",
    "\n",
    "# Comment: After observing the histogram, the most common range of sentiment scores is typically centered around 0. \n",
    "\n"
   ]
  },
  {
   "cell_type": "markdown",
   "metadata": {},
   "source": [
    "### Question 6. \n",
    "Make a list containing the scores (using lemmas) of every sentence in the article, and plot a histogram with appropriate titles and axis labels of the scores.  From your histogram, what seems to be the most common range of scores (put the answer in a comment after your code)?"
   ]
  },
  {
   "cell_type": "code",
   "execution_count": 113,
   "metadata": {},
   "outputs": [
    {
     "data": {
      "image/png": "[encoded data removed]",
      "text/plain": [
       "<Figure size 640x480 with 1 Axes>"
      ]
     },
     "metadata": {},
     "output_type": "display_data"
    }
   ],
   "source": [
    "import spacy\n",
    "from textblob import TextBlob\n",
    "import matplotlib.pyplot as plt\n",
    "from bs4 import BeautifulSoup\n",
    "\n",
    "# Load the spaCy language model\n",
    "nlp = spacy.load('en_core_web_sm')\n",
    "\n",
    "# Open the saved HTML file and read its content\n",
    "with open('article.html', 'r', encoding='utf-8') as file:\n",
    "    html_content = file.read()\n",
    "\n",
    "# Parse the HTML content using BeautifulSoup\n",
    "soup = BeautifulSoup(html_content, 'html.parser')\n",
    "\n",
    "# Extract the main article text\n",
    "article_text = soup.get_text()\n",
    "\n",
    "# Process the text with spaCy\n",
    "doc = nlp(article_text)\n",
    "\n",
    "# Split the article into sentences\n",
    "sentences = list(doc.sents)\n",
    "\n",
    "# Create a list to store sentiment scores for each sentence based on lemmas\n",
    "sentence_scores_lemmas = []\n",
    "\n",
    "# Calculate sentiment score for each sentence using lemmas\n",
    "for sentence in sentences:\n",
    "    sentence_text = \" \".join([token.lemma_ for token in sentence if not token.is_punct and not token.is_stop])\n",
    "    blob = TextBlob(sentence_text)\n",
    "    polarity = blob.sentiment.polarity  # Sentiment score (-1 to 1)\n",
    "    sentence_scores_lemmas.append(polarity)\n",
    "\n",
    "# Plot the histogram of sentence scores based on lemmas\n",
    "plt.hist(sentence_scores_lemmas, bins=20, color= 'green', edgecolor='black')\n",
    "plt.title('Histogram of Sentence Sentiment Scores (Using Lemmas)')\n",
    "plt.xlabel('Sentiment Score')\n",
    "plt.ylabel('Frequency')\n",
    "plt.grid(True)\n",
    "plt.show()\n",
    "\n",
    "# Comment: After observing the histogram, the most common range of sentiment scores appears to be around 0, \n",
    "# indicating neutral sentiment. Positive and negative sentiment scores are less frequent but still noticeable.\n"
   ]
  },
  {
   "cell_type": "markdown",
   "metadata": {},
   "source": [
    "### Question 7. \n",
    "Using the histograms from questions 5 and 6, decide a \"cutoff\" score for tokens and lemmas such that fewer than half the sentences would have a score greater than the cutoff score.  Record the scores in this Markdown cell\n",
    "\n",
    "* Cutoff Score (tokens): \n",
    "* Cutoff Score (lemmas):\n",
    "\n",
    "Feel free to change these scores as you generate your summaries.  Ideally, we're shooting for at least 6 sentences for our summary, but don't want more than 10 (these numbers are rough estimates; they depend on the length of your article)."
   ]
  },
  {
   "cell_type": "code",
   "execution_count": 114,
   "metadata": {},
   "outputs": [
    {
     "name": "stdout",
     "output_type": "stream",
     "text": [
      "Cutoff Score (tokens): 0.028888888888888888\n",
      "Cutoff Score (lemmas): 0.0\n"
     ]
    }
   ],
   "source": [
    "import numpy as np\n",
    "\n",
    "# Calculate median sentiment scores for tokens\n",
    "cutoff_tokens = np.median(sentence_scores) #contains the scores based on tokens (from Question 5)\n",
    "\n",
    "# Calculate median sentiment scores for lemmas\n",
    "cutoff_lemmas = np.median(sentence_scores_lemmas) #contains the scores based on tokens (from Question 6)\n",
    "\n",
    "# Print the cutoff scores\n",
    "print(f\"Cutoff Score (tokens): {cutoff_tokens}\")\n",
    "print(f\"Cutoff Score (lemmas): {cutoff_lemmas}\")"
   ]
  },
  {
   "cell_type": "markdown",
   "metadata": {},
   "source": [
    "### Answer:\n",
    "\n",
    "\n",
    "* Cutoff Score (tokens): 0.03\n",
    "* Cutoff Score (lemmas): 0.0\n"
   ]
  },
  {
   "cell_type": "markdown",
   "metadata": {},
   "source": [
    "### Question 8. \n",
    "Create a summary of the article by going through every sentence in the article and adding it to an (initially) empty list if its score (based on tokens) is greater than the cutoff score you identified in question 8.  If your loop variable is named `sent`, you may find it easier to add `sent.text.strip()` to your list of sentences.  Print the summary (I would cleanly generate the summary text by `join`ing the strings in your list together with a space (`' '.join(sentence_list)`)."
   ]
  },
  {
   "cell_type": "code",
   "execution_count": 115,
   "metadata": {},
   "outputs": [
    {
     "name": "stdout",
     "output_type": "stream",
     "text": [
      "Summary of the article (Token-Based):\n",
      "Jump to How-To\n",
      "I’ve started many new garden beds over the years, and you know what? Back in my old garden in California, it actually wouldâve been pretty challenging to dig anything, as I started one of my new beds in an old bathtub. They had it propped up under the feijoa tree on a stack of stones, and for many summers it was our repurposed party cooler, filled with ice and stuffed with cold beverages. I envisioned turning it into a planter (especially a future planter for potatoes and sweet potatoes, where the tubers could be contained), but the massive size made filling it with good-quality soil a little cost-prohibitive, considering we needed to top off all our existing garden beds as well. So I started looking into no-dig methods for building raised bedsâwhich pile on layers of organic materials that decompose over a season to create humus-rich earthâand settled on a method that’s changed the way I create new beds and make my own soil for the last 10 years. Beneficial microbes begin to convert the plant debris into humus (the rich organic matter you know as compost). More soil-dwelling organisms then carry the humus deeper into the soil where the nutrients can be absorbed by plant roots. If you dig, fork, till, or otherwise disturb the soil in some way, you risk killing larger organisms (like beetles and worms) and damaging the ecosystem that your own personal soil food web has been building. But when the natural balance is upset, even temporarily, it’s likely to create an opportunity for weeds and pests to take hold while the soil food web works to regain balance. There’s actually no differenceâno-dig and no-till both refer to the same practice of leaving the soil undisturbed and layering organic matter on top to build up the soil structure and increase soil fertility. So you can skip all the digging and tilling and start making healthy soil the “lazy” way, as I like to call it. Why no-dig gardening is a better way to go\n",
      "If you’ve always followed traditional gardening methods and you’re not convinced to give no-dig gardening a go, here are six reasons you should at least try it in just one of your beds this year:\n",
      "1. You never eliminate manual tasks completely, of course, but you definitely don’t have to aerate the soil, work in compost, or any of the blisters and back pain that often go along with starting a new bed. This makes no-dig gardens a great choice for people with physical limitations, or who simply believe in working smarter (not harder). Less time spent on maintenance means more time you can devote to things you actually like doing in the garden, such as designing, planting, harvesting, or simply sitting back and enjoying the view. Related: Get a Bigger Harvest With This Plant Spacing Guide for Raised Bed Gardens\n",
      "A lot of what goes into gardening is busy work, and what we’ve been taught to do every seasonâlike forking compost into the soilâsimply isn’t necessary in order to have a healthy, productive garden. No-dig gardening builds soil fertility by layering organic matter on top (essentially mulch). This natural cycle reduces the amount of outside fertilizers you actually need to use, as you’re creating your own compost right inside the garden bed. With no-dig gardening, what’s good for the soil is good for the plants too. The lighter, fluffier soil drains excess water while retaining a proper level of moisture, promotes good air circulation, and improves the uptake of nutrients by plant roots, all of which lead to fewer plant diseases and overall healthier plants. Weeds are present in every garden, but many of their seeds are buried deep in the soil, where they lay dormant until exposed to sunlight. When you dig up the soil, you inevitably bring these seeds to the surface and then provide them with all the light and water they need to germinate and grow. Since no-dig gardening improves the soil structure over time with its use of regular mulching, this increases the soil’s water-holding capacity (in a good way). Your garden needs less water because the roots can grow deep to reach the moisture it needs, and your plants naturally become more drought-tolerant. Read next: 7 Hot-Weather Watering Tips to Survive a Heat Wave\n",
      "Types of no-dig gardens\n",
      "There are several types of no-dig gardens, including straw bale gardens, lasagna gardens, hugelkultur, and sheet mulching, and the no-dig gardening method is often associated with organic gardeners like Charles Dowding and Ruth Stout (who each have their own methods that are worth trying). This is the no-dig method I used to build out my own raised bed garden. Join me inside Lazy Gardening Academy and I’ll show you my exact method for making amazing soilâthe easy way. Read more: How to Find the Root Depth of Vegetables [Printable Chart]\n",
      "\n",
      "\n",
      "\n",
      "\n",
      "\n",
      "\n",
      "I decided to try this method for filling my clawfoot tub, since straw and alfalfa were inexpensive and easy to come by at my local feed store, and I could use them to mulch and amend several other beds in the garden. Materials needed\n",
      "\n",
      "Newspapers\n",
      "Organic fertilizer (I used blood meal and bone meal)\n",
      "Alfalfa (also called lucerne hay)\n",
      "Straw (make sure it’s weed- and pesticide-free)\n",
      "Finished compost\n",
      "\n",
      "How to make a no-dig garden bed\n",
      "I started with about 10 sheets of newspaper layered in the bottom of the tub. In my case, they were less for weed suppression, and more for adding brown matter and providing food for the worms that will make their home in the tub. (A few handfuls is much more than you would typically use if you were fertilizing a bed, but in this case, extra blood meal and bone meal is added to accelerate the breakdown of the layers.) It comes in bales that pull apart in 3-inch pads and makes an excellent base for a no-dig garden. With its super nutritious and high nitrogen content, it rots quickly, providing rich organic matter for plants and helping other materials decompose. I covered the bottom of my tub with two layers of alfalfa pads (about 6 inches), a few more handfuls of bone meal and blood meal, then soaked them thoroughly with a hose. On top of the alfalfa, I added a thick layer of straw (about 12 inches, or double my alfalfa layer). Really pack in and pack down the straw in your raised bed (even building the layer up to the lip), as it will greatly compress after a couple of months. Finally, the topmost layer was a healthy addition of compost (about 3 to 6 inches). If you have a taller raised bed, simply repeat the layers until you reach the top (ending with the compost layer). Reviving an old garden bed with the no-dig method\n",
      "The no-dig gardening method also works for reviving an old raised bed; just omit the straw layer and add the rest on top of the existing soil. I stacked on the newspaper, blood and bone meal, alfalfa, more blood and bone meal, then topped off with homemade compost, and saturated each layer with water. I didnât plant in that particular bed, but watered it with the rest of the garden through winter and ended up with lush, rich soil to plant in spring as all the layers gradually decomposed into humus. Tips for maintaining a no-dig garden\n",
      "Going back to the bathtub, this is what it looked like shortly after I piled on all the layers, then planted the top layer with kale, turnip, and lettuce. I watered like normal and did not fertilize the bed again until mid-season. Some sources suggest that newly built no-dig beds work best with shallow-rooted plants until the layers break down into humus. But from experience, my turnips (shown here in the foreground) grew well, as did many other root crops and medium-rooted plants I’ve grown. I probably wouldnât plant, say, Imperator carrots or Japanese daikon in a first-season bed as theyâre very deep-rooted (upwards of 10 inches long) and do best in deep soil. Like any raised bed, you should top off your no-dig bed every season with compost and mulch. These are the layers that keep the soil food web fully functioning and healthy. I aim for 2 to 3 inches of compost, then another 2 to 3 inches of mulch (like straw, shredded leaves, or pine needles) on top of that. They just sit on top and get watered in normally. This no-dig bed is now one of my favorite âlazy gardeningâ strategies that Iâve used and adapted in a few different gardens, as itâs easy to implement (even in small spaces) and doesnât require me to stockpile a ton of organic matter (like vegetable scraps) to put into a bed. Common questions about no-dig gardening\n",
      "Is it okay if I dig a hole to plant? To build a taller bed, simply repeat the layers as needed until you reach the top (and even go a few inches above the lip, as the layers will naturally break down, compress, and reduce in volume over the course of a season). Can I plant in a no-dig garden right away? You can plant in the bed right away and let the layers of decomposing organic matter feed your plants all season long. so you don’t have to dig, till, or work in soil amendments to achieve amazing soil. Continue to Content \n",
      " \n",
      "\n",
      "\n",
      "\n",
      "Easy No-Dig Garden Bed\n",
      "\n",
      "\n",
      "\n",
      " \n",
      "\n",
      "\n",
      "\n",
      "\t\t\tPrint\t\t\n",
      "\n",
      "\n",
      "\n",
      "Put down that shovel and start making healthy soil the lazy way by building a no-dig garden bed. Prep Time\n",
      "15 minutes \n",
      "\n",
      "\n",
      "Active Time\n",
      "30 minutes \n",
      "\n",
      "\n",
      "Total Time\n",
      "45 minutes \n",
      "\n",
      "\n",
      "Difficulty\n",
      "Easy\n",
      "\n",
      "\n",
      " \n",
      "Materials\n",
      "\n",
      "\n",
      "\t\t\t\t\t\tNewspapers\t\t\t\t\t\n",
      "\n",
      "\t\t\t\t\t\tOrganic fertilizer (I used blood meal and bone meal)\t\t\t\t\t\n",
      "\n",
      "\t\t\t\t\t\tAlfalfa (also called lucerne hay)\t\t\t\t\t\n",
      "\n",
      "\t\t\t\t\t\tStraw (make sure it's weed- and pesticide-free)\t\t\t\t\t\n",
      "\n",
      "\t\t\t\t\t\tFinished compost\t\t\t\t\t\n",
      "\n",
      "\n",
      "\n",
      "Tools\n",
      "\n",
      "\n",
      "\t\t\t\t\t\tTrowel\t\t\t\t\t\n",
      "\n",
      "\n",
      "\n",
      "\n",
      "Instructions\n",
      "Lay 10 sheets of newspaper across the bottom of the garden bed. Layer about 6 inches of alfalfa on top. Scatter a few more handfuls of fertilizer over the alfalfa, then water thoroughly. Top off with 3 to 6 inches of finished compost, and water thoroughly. Now, you're ready to plant! Notes\n",
      "\n",
      "If you have a taller raised bed, simply repeat the layers until you reach the top (ending with the compost layer). This post updated from an article that originally appeared on March 5, 2014.\n",
      "\n",
      "Number of Sentences in the Summary: 64\n"
     ]
    }
   ],
   "source": [
    "import spacy\n",
    "from textblob import TextBlob\n",
    "from bs4 import BeautifulSoup\n",
    "import requests\n",
    "\n",
    "# Load the spaCy language model\n",
    "nlp = spacy.load('en_core_web_sm')\n",
    "\n",
    "# Function to fetch article text from URL\n",
    "def get_article_text(url):\n",
    "    response = requests.get(url)\n",
    "    soup = BeautifulSoup(response.text, 'html.parser')\n",
    "    \n",
    "    # Modify the class to match the new one ('entry-content')\n",
    "    article = soup.find('div', {'class': 'entry-content'})  # Adjusted class\n",
    "    return article.get_text() if article else \"\"\n",
    "\n",
    "# Fetch article from the URL\n",
    "url = 'https://gardenbetty.com/the-no-dig-vegetable-garden/'\n",
    "article_text = get_article_text(url)\n",
    "\n",
    "# Process the article text with spaCy\n",
    "doc = nlp(article_text)\n",
    "\n",
    "# Calculate sentiment scores for each sentence using TextBlob\n",
    "sentence_scores = []\n",
    "for sent in doc.sents:\n",
    "    sentence_text = sent.text\n",
    "    blob = TextBlob(sentence_text)\n",
    "    polarity = blob.sentiment.polarity  # Sentiment score (-1 to 1)\n",
    "    sentence_scores.append((sent, polarity))\n",
    "\n",
    "# Set the cutoff score for tokens (based on prior analysis)\n",
    "cutoff_score_tokens = 0.03  # Adjust this cutoff score\n",
    "\n",
    "# Create a list to store sentences with scores above the cutoff\n",
    "selected_sentences = [sent.text.strip() for sent, score in sentence_scores if score > cutoff_score_tokens]\n",
    "\n",
    "# Generate the summary by joining the selected sentences\n",
    "summary = ' '.join(selected_sentences)\n",
    "\n",
    "# Print the summary\n",
    "print(\"Summary of the article (Token-Based):\")\n",
    "print(summary)\n",
    "\n",
    "# Print the number of sentences in summary\n",
    "print(\"\\nNumber of Sentences in the Summary:\", len(selected_sentences))\n"
   ]
  },
  {
   "cell_type": "markdown",
   "metadata": {},
   "source": [
    "### Question 9. \n",
    "Print the polarity score of your summary you generated with the token scores (with an appropriate label). Additionally, print the number of sentences in the summarized article."
   ]
  },
  {
   "cell_type": "code",
   "execution_count": 116,
   "metadata": {},
   "outputs": [
    {
     "name": "stdout",
     "output_type": "stream",
     "text": [
      "Polarity score of the summary (Token-Based): 0.1953568823152156\n",
      "Number of sentences in the summarized article: 64\n"
     ]
    }
   ],
   "source": [
    "from textblob import TextBlob\n",
    "\n",
    "# Generate the summary (replace this with your actual summary)\n",
    "summary = ' '.join(selected_sentences)\n",
    "\n",
    "# Calculate polarity of the summary using TextBlob\n",
    "summary_blob = TextBlob(summary)\n",
    "summary_polarity = summary_blob.sentiment.polarity\n",
    "\n",
    "# Print the polarity score\n",
    "print(f\"Polarity score of the summary (Token-Based): {summary_polarity}\")\n",
    "\n",
    "# Print the number of sentences in the summarized article\n",
    "num_sentences_in_summary = len(selected_sentences)\n",
    "print(f\"Number of sentences in the summarized article: {num_sentences_in_summary}\")\n"
   ]
  },
  {
   "cell_type": "markdown",
   "metadata": {},
   "source": [
    "### Question 10. \n",
    "Create a summary of the article by going through every sentence in the article and adding it to an (initially) empty list if its score (based on lemmas) is greater than the cutoff score you identified in question 8.  If your loop variable is named `sent`, you may find it easier to add `sent.text.strip()` to your list of sentences.  Print the summary (I would cleanly generate the summary text by `join`ing the strings in your list together with a space (`' '.join(sentence_list)`)."
   ]
  },
  {
   "cell_type": "code",
   "execution_count": 117,
   "metadata": {},
   "outputs": [
    {
     "name": "stdout",
     "output_type": "stream",
     "text": [
      "Summary of the Article (Lemma-Based):\n",
      "Jump to How-To\n",
      "I’ve started many new garden beds over the years, and you know what? Back in my old garden in California, it actually wouldâve been pretty challenging to dig anything, as I started one of my new beds in an old bathtub. They had it propped up under the feijoa tree on a stack of stones, and for many summers it was our repurposed party cooler, filled with ice and stuffed with cold beverages. I envisioned turning it into a planter (especially a future planter for potatoes and sweet potatoes, where the tubers could be contained), but the massive size made filling it with good-quality soil a little cost-prohibitive, considering we needed to top off all our existing garden beds as well. So I started looking into no-dig methods for building raised bedsâwhich pile on layers of organic materials that decompose over a season to create humus-rich earthâand settled on a method that’s changed the way I create new beds and make my own soil for the last 10 years. This is in sharp contrast to traditional methods of gardening, which promote tilling, double digging, turning the soil, or “working” compost into the soil to start a new garden plot. With no-dig gardening, however, you simply layer organic materials (like plant debris or dead woody matter) on top of the soil and let the soil food web break them down and, essentially, do the job of aerating the soil for you. Beneficial microbes begin to convert the plant debris into humus (the rich organic matter you know as compost). More soil-dwelling organisms then carry the humus deeper into the soil where the nutrients can be absorbed by plant roots. If you dig, fork, till, or otherwise disturb the soil in some way, you risk killing larger organisms (like beetles and worms) and damaging the ecosystem that your own personal soil food web has been building. But when the natural balance is upset, even temporarily, it’s likely to create an opportunity for weeds and pests to take hold while the soil food web works to regain balance. There’s actually no differenceâno-dig and no-till both refer to the same practice of leaving the soil undisturbed and layering organic matter on top to build up the soil structure and increase soil fertility. So you can skip all the digging and tilling and start making healthy soil the “lazy” way, as I like to call it. Why no-dig gardening is a better way to go\n",
      "If you’ve always followed traditional gardening methods and you’re not convinced to give no-dig gardening a go, here are six reasons you should at least try it in just one of your beds this year:\n",
      "1. You never eliminate manual tasks completely, of course, but you definitely don’t have to aerate the soil, work in compost, or any of the blisters and back pain that often go along with starting a new bed. This makes no-dig gardens a great choice for people with physical limitations, or who simply believe in working smarter (not harder). Less time spent on maintenance means more time you can devote to things you actually like doing in the garden, such as designing, planting, harvesting, or simply sitting back and enjoying the view. Related: Get a Bigger Harvest With This Plant Spacing Guide for Raised Bed Gardens\n",
      "A lot of what goes into gardening is busy work, and what we’ve been taught to do every seasonâlike forking compost into the soilâsimply isn’t necessary in order to have a healthy, productive garden. No-dig gardening builds soil fertility by layering organic matter on top (essentially mulch). This natural cycle reduces the amount of outside fertilizers you actually need to use, as you’re creating your own compost right inside the garden bed. With no-dig gardening, what’s good for the soil is good for the plants too. The lighter, fluffier soil drains excess water while retaining a proper level of moisture, promotes good air circulation, and improves the uptake of nutrients by plant roots, all of which lead to fewer plant diseases and overall healthier plants. Weeds are present in every garden, but many of their seeds are buried deep in the soil, where they lay dormant until exposed to sunlight. When you dig up the soil, you inevitably bring these seeds to the surface and then provide them with all the light and water they need to germinate and grow. In a no-dig garden, the few weeds that do sneak through are easy to remove by hand or cut down at soil level, where they can be left in place to decompose (if they haven’t gone to seed) and feed the soil food web.\n",
      "6. Since no-dig gardening improves the soil structure over time with its use of regular mulching, this increases the soil’s water-holding capacity (in a good way). Your garden needs less water because the roots can grow deep to reach the moisture it needs, and your plants naturally become more drought-tolerant. Read next: 7 Hot-Weather Watering Tips to Survive a Heat Wave\n",
      "Types of no-dig gardens\n",
      "There are several types of no-dig gardens, including straw bale gardens, lasagna gardens, hugelkultur, and sheet mulching, and the no-dig gardening method is often associated with organic gardeners like Charles Dowding and Ruth Stout (who each have their own methods that are worth trying). This is the no-dig method I used to build out my own raised bed garden. Join me inside Lazy Gardening Academy and I’ll show you my exact method for making amazing soilâthe easy way. Read more: How to Find the Root Depth of Vegetables [Printable Chart]\n",
      "\n",
      "\n",
      "\n",
      "\n",
      "\n",
      "\n",
      "I decided to try this method for filling my clawfoot tub, since straw and alfalfa were inexpensive and easy to come by at my local feed store, and I could use them to mulch and amend several other beds in the garden. Materials needed\n",
      "\n",
      "Newspapers\n",
      "Organic fertilizer (I used blood meal and bone meal)\n",
      "Alfalfa (also called lucerne hay)\n",
      "Straw (make sure it’s weed- and pesticide-free)\n",
      "Finished compost\n",
      "\n",
      "How to make a no-dig garden bed\n",
      "I started with about 10 sheets of newspaper layered in the bottom of the tub. In my case, they were less for weed suppression, and more for adding brown matter and providing food for the worms that will make their home in the tub. (A few handfuls is much more than you would typically use if you were fertilizing a bed, but in this case, extra blood meal and bone meal is added to accelerate the breakdown of the layers.) It comes in bales that pull apart in 3-inch pads and makes an excellent base for a no-dig garden. With its super nutritious and high nitrogen content, it rots quickly, providing rich organic matter for plants and helping other materials decompose. I covered the bottom of my tub with two layers of alfalfa pads (about 6 inches), a few more handfuls of bone meal and blood meal, then soaked them thoroughly with a hose. On top of the alfalfa, I added a thick layer of straw (about 12 inches, or double my alfalfa layer). Itâs not as nitrogen-rich as alfalfa, but breaks down quickly into compost and contains fewer seeds, meaning less weeds growing in your no-dig bed. Really pack in and pack down the straw in your raised bed (even building the layer up to the lip), as it will greatly compress after a couple of months. Finally, the topmost layer was a healthy addition of compost (about 3 to 6 inches). If you have a taller raised bed, simply repeat the layers until you reach the top (ending with the compost layer). Reviving an old garden bed with the no-dig method\n",
      "The no-dig gardening method also works for reviving an old raised bed; just omit the straw layer and add the rest on top of the existing soil. I stacked on the newspaper, blood and bone meal, alfalfa, more blood and bone meal, then topped off with homemade compost, and saturated each layer with water. I didnât plant in that particular bed, but watered it with the rest of the garden through winter and ended up with lush, rich soil to plant in spring as all the layers gradually decomposed into humus. Tips for maintaining a no-dig garden\n",
      "Going back to the bathtub, this is what it looked like shortly after I piled on all the layers, then planted the top layer with kale, turnip, and lettuce. I watered like normal and did not fertilize the bed again until mid-season. Some sources suggest that newly built no-dig beds work best with shallow-rooted plants until the layers break down into humus. But from experience, my turnips (shown here in the foreground) grew well, as did many other root crops and medium-rooted plants I’ve grown. I probably wouldnât plant, say, Imperator carrots or Japanese daikon in a first-season bed as theyâre very deep-rooted (upwards of 10 inches long) and do best in deep soil. Like any raised bed, you should top off your no-dig bed every season with compost and mulch. These are the layers that keep the soil food web fully functioning and healthy. I aim for 2 to 3 inches of compost, then another 2 to 3 inches of mulch (like straw, shredded leaves, or pine needles) on top of that. They just sit on top and get watered in normally. This no-dig bed is now one of my favorite âlazy gardeningâ strategies that Iâve used and adapted in a few different gardens, as itâs easy to implement (even in small spaces) and doesnât require me to stockpile a ton of organic matter (like vegetable scraps) to put into a bed. Common questions about no-dig gardening\n",
      "Is it okay if I dig a hole to plant? To build a taller bed, simply repeat the layers as needed until you reach the top (and even go a few inches above the lip, as the layers will naturally break down, compress, and reduce in volume over the course of a season). Can I plant in a no-dig garden right away? You can plant in the bed right away and let the layers of decomposing organic matter feed your plants all season long. so you don’t have to dig, till, or work in soil amendments to achieve amazing soil. Continue to Content \n",
      " \n",
      "\n",
      "\n",
      "\n",
      "Easy No-Dig Garden Bed\n",
      "\n",
      "\n",
      "\n",
      " \n",
      "\n",
      "\n",
      "\n",
      "\t\t\tPrint\t\t\n",
      "\n",
      "\n",
      "\n",
      "Put down that shovel and start making healthy soil the lazy way by building a no-dig garden bed. Prep Time\n",
      "15 minutes \n",
      "\n",
      "\n",
      "Active Time\n",
      "30 minutes \n",
      "\n",
      "\n",
      "Total Time\n",
      "45 minutes \n",
      "\n",
      "\n",
      "Difficulty\n",
      "Easy\n",
      "\n",
      "\n",
      " \n",
      "Materials\n",
      "\n",
      "\n",
      "\t\t\t\t\t\tNewspapers\t\t\t\t\t\n",
      "\n",
      "\t\t\t\t\t\tOrganic fertilizer (I used blood meal and bone meal)\t\t\t\t\t\n",
      "\n",
      "\t\t\t\t\t\tAlfalfa (also called lucerne hay)\t\t\t\t\t\n",
      "\n",
      "\t\t\t\t\t\tStraw (make sure it's weed- and pesticide-free)\t\t\t\t\t\n",
      "\n",
      "\t\t\t\t\t\tFinished compost\t\t\t\t\t\n",
      "\n",
      "\n",
      "\n",
      "Tools\n",
      "\n",
      "\n",
      "\t\t\t\t\t\tTrowel\t\t\t\t\t\n",
      "\n",
      "\n",
      "\n",
      "\n",
      "Instructions\n",
      "Lay 10 sheets of newspaper across the bottom of the garden bed. Layer about 6 inches of alfalfa on top. Scatter a few more handfuls of fertilizer over the alfalfa, then water thoroughly. Top off with 3 to 6 inches of finished compost, and water thoroughly. Now, you're ready to plant! Notes\n",
      "\n",
      "If you have a taller raised bed, simply repeat the layers until you reach the top (ending with the compost layer). This post updated from an article that originally appeared on March 5, 2014.\n",
      "\n",
      "Number of Sentences in the Lemma-Based Summary: 68\n"
     ]
    }
   ],
   "source": [
    "import requests\n",
    "from bs4 import BeautifulSoup\n",
    "import spacy\n",
    "from textblob import TextBlob\n",
    "\n",
    "# Load the spaCy language model\n",
    "nlp = spacy.load('en_core_web_sm')\n",
    "\n",
    "# Fetch article HTML (Replace URL with your target article)\n",
    "url = 'https://gardenbetty.com/the-no-dig-vegetable-garden/'  # Replace with the URL you're working with\n",
    "response = requests.get(url)\n",
    "soup = BeautifulSoup(response.text, 'html.parser')\n",
    "\n",
    "# Extract article text based on the div class used in the page\n",
    "article = soup.find('div', {'class': 'entry-content'})  # Replace 'entry-content' with the appropriate class for your case\n",
    "article_text = article.get_text() if article else \"\"\n",
    "\n",
    "# Process the article text with spaCy\n",
    "doc = nlp(article_text)\n",
    "\n",
    "# Define a cutoff score based on previous analysis (this can be adjusted)\n",
    "cutoff_score_lemmas = 0.0  # Example cutoff; modify as per your analysis in Question 7\n",
    "\n",
    "# Create a list to store the sentences that pass the cutoff score\n",
    "selected_sentences_lemmas = []\n",
    "\n",
    "# Loop through the sentences and calculate the sentiment based on lemmas\n",
    "for sent in doc.sents:\n",
    "    sentence_text = sent.text\n",
    "    # Lemmatize the sentence and analyze sentiment\n",
    "    blob = TextBlob(sentence_text)\n",
    "    sentiment_score_lemma = blob.sentiment.polarity  # Sentiment score based on lemmas\n",
    "    # Select sentences with a sentiment score above the cutoff\n",
    "    if sentiment_score_lemma > cutoff_score_lemmas:\n",
    "        selected_sentences_lemmas.append(sentence_text.strip())\n",
    "\n",
    "# Join the selected sentences into a clean summary\n",
    "summary_lemmas = ' '.join(selected_sentences_lemmas)\n",
    "\n",
    "# Print the summary\n",
    "print(\"Summary of the Article (Lemma-Based):\")\n",
    "print(summary_lemmas)\n",
    "print(\"\\nNumber of Sentences in the Lemma-Based Summary:\", len(selected_sentences_lemmas))\n"
   ]
  },
  {
   "cell_type": "markdown",
   "metadata": {},
   "source": [
    "### Question 11. \n",
    "Print the polarity score of your summary you generated with the lemma scores (with an appropriate label). Additionally, print the number of sentences in the summarized article."
   ]
  },
  {
   "cell_type": "code",
   "execution_count": 118,
   "metadata": {},
   "outputs": [
    {
     "name": "stdout",
     "output_type": "stream",
     "text": [
      "\n",
      "Polarity score of the summary (based on lemmas): 0.1806578356450805\n",
      "Number of sentences in the summarized article: 68\n"
     ]
    }
   ],
   "source": [
    "import requests\n",
    "from bs4 import BeautifulSoup\n",
    "import spacy\n",
    "from textblob import TextBlob\n",
    "\n",
    "# Load the spaCy language model\n",
    "nlp = spacy.load('en_core_web_sm')\n",
    "\n",
    "# Fetch article HTML (Replace URL with your target article)\n",
    "url = 'https://gardenbetty.com/the-no-dig-vegetable-garden/'  # Replace with the URL you're working with\n",
    "response = requests.get(url)\n",
    "soup = BeautifulSoup(response.text, 'html.parser')\n",
    "\n",
    "# Extract article text based on the div class used in the page\n",
    "article = soup.find('div', {'class': 'entry-content'})  # Replace 'entry-content' with the appropriate class for your case\n",
    "article_text = article.get_text() if article else \"\"\n",
    "\n",
    "# Process the article text with spaCy\n",
    "doc = nlp(article_text)\n",
    "\n",
    "# Define a cutoff score based on previous analysis (this can be adjusted)\n",
    "cutoff_score_lemmas = 0.0  # Example cutoff; modify as per your analysis in Question 7\n",
    "\n",
    "# Create a list to store the sentences that pass the cutoff score\n",
    "selected_sentences_lemmas = []\n",
    "\n",
    "# Loop through the sentences and calculate the sentiment based on lemmas\n",
    "for sent in doc.sents:\n",
    "    sentence_text = sent.text\n",
    "    # Lemmatize the sentence and analyze sentiment\n",
    "    blob = TextBlob(sentence_text)\n",
    "    sentiment_score_lemma = blob.sentiment.polarity  # Sentiment score based on lemmas\n",
    "    # Select sentences with a sentiment score above the cutoff\n",
    "    if sentiment_score_lemma > cutoff_score_lemmas:\n",
    "        selected_sentences_lemmas.append(sentence_text.strip())\n",
    "\n",
    "# Join the selected sentences into a clean summary\n",
    "summary_lemmas = ' '.join(selected_sentences_lemmas)\n",
    "\n",
    "\n",
    "# Print the polarity score of the summary\n",
    "summary_blob = TextBlob(summary_lemmas)\n",
    "summary_polarity = summary_blob.sentiment.polarity\n",
    "print(f\"\\nPolarity score of the summary (based on lemmas): {summary_polarity}\")\n",
    "\n",
    "# Print the number of sentences in the summarized article\n",
    "num_sentences_in_summary = len(selected_sentences_lemmas)\n",
    "print(f\"Number of sentences in the summarized article: {num_sentences_in_summary}\")\n"
   ]
  },
  {
   "cell_type": "markdown",
   "metadata": {},
   "source": [
    "### Question 12.  \n",
    "Compare your polarity scores of your summaries to the polarity scores of the initial article.  Is there a difference?  Why do you think that may or may not be?.  Answer in this Markdown cell.  "
   ]
  },
  {
   "cell_type": "markdown",
   "metadata": {},
   "source": [
    "### Answer:\n",
    "The polarity score of the summary I generated based on tokens is 0.19, which is higher than the full article's polarity score of 0.13. This suggests that the sentences selected for the summary may have slightly more positive sentiment compared to the entire article. The number of sentences in the summary is 64, much fewer than the 194 sentences in the full article.\n",
    "\n",
    "The polarity score of the summary I generated based on lemmas is 0.1806, which is higher than the full article's polarity score of 0.13. This suggests that the sentences selected for the summary may have slightly more positive sentiment compared to the entire article. The number of sentences in the summary is 68, much fewer than the 194 sentences in the full article.\n",
    "\n",
    "The slight increase in polarity score could be due to the selection of sentences that contained more positive or optimistic sentiments, which is common when using sentiment-based filtering for summaries. Sentiment in the full article may have been more neutral overall, with the summary focusing on a subset of sentences that had a more positive tone."
   ]
  },
  {
   "cell_type": "markdown",
   "metadata": {},
   "source": [
    "### Question 13. \n",
    "Based on your reading of the original article, which summary do you think is better (if there's a difference).  Why do you think this might be?"
   ]
  },
  {
   "cell_type": "markdown",
   "metadata": {},
   "source": [
    "### Answer:\n",
    "The better summary depends on the goal. Here,\n",
    "Token-based summary highlights sentences with more positive sentiment, making it engaging but potentially missing nuances.\n",
    "Lemmatization-based summary is simpler and more neutral, focusing on core ideas while excluding some variations.\n",
    "\n",
    "I prefer token-based summaries because they focus on the actual words and their frequency, which helps in identifying the most relevant parts of the text. "
   ]
  }
 ],
 "metadata": {
  "kernelspec": {
   "display_name": "Python 3",
   "language": "python",
   "name": "python3"
  },
  "language_info": {
   "codemirror_mode": {
    "name": "ipython",
    "version": 3
   },
   "file_extension": ".py",
   "mimetype": "text/x-python",
   "name": "python",
   "nbconvert_exporter": "python",
   "pygments_lexer": "ipython3",
   "version": "3.12.2"
  }
 },
 "nbformat": 4,
 "nbformat_minor": 4
}
